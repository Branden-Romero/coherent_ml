{
 "cells": [
  {
   "cell_type": "code",
   "execution_count": 1,
   "metadata": {
    "collapsed": true
   },
   "outputs": [],
   "source": [
    "%matplotlib inline"
   ]
  },
  {
   "cell_type": "markdown",
   "metadata": {},
   "source": [
    "Correlation Test Domain"
   ]
  },
  {
   "cell_type": "code",
   "execution_count": 43,
   "metadata": {
    "collapsed": true
   },
   "outputs": [],
   "source": [
    "import numpy as np"
   ]
  },
  {
   "cell_type": "code",
   "execution_count": 44,
   "metadata": {
    "collapsed": false
   },
   "outputs": [],
   "source": [
    "data = np.loadtxt(open(\"../multi_domain.csv\",'rb'),delimiter=',')"
   ]
  },
  {
   "cell_type": "code",
   "execution_count": 51,
   "metadata": {
    "collapsed": false
   },
   "outputs": [],
   "source": [
    "domains = ['books','dvd','electronics','kitchen']\n",
    "penalties = ['l1','l2']                                                                                                            \n",
    "Cs = [0.01,0.1,1.0,10.0,100.0,1000.0] \n",
    "\n",
    "labels = []\n",
    "label = \"{0}_{1}\"\n",
    "\n",
    "labels_p = []\n",
    "label_p = \"{0}_{1}_{2}\"\n",
    "\n",
    "labels_a = []\n",
    "\n",
    "for p in penalties:\n",
    "    for c in Cs:\n",
    "        for dtrain in domains:\n",
    "            for dtest in domains:\n",
    "                if dtrain != dtest:\n",
    "                    labels.append(label.format(dtest,p))\n",
    "                    labels_p.append(label_p.format(dtrain,dtest,p))\n",
    "                    labels_a.append(p)"
   ]
  },
  {
   "cell_type": "code",
   "execution_count": 52,
   "metadata": {
    "collapsed": false
   },
   "outputs": [],
   "source": [
    "keys = list(set(labels))\n",
    "coherences = dict.fromkeys(keys,None)\n",
    "\n",
    "keys_p = list(set(labels_p))\n",
    "coherences_p = dict.fromkeys(keys_p,None)\n",
    "\n",
    "keys_a = list(set(labels_a))\n",
    "coherences_a = dict.fromkeys(keys_a,None)"
   ]
  },
  {
   "cell_type": "code",
   "execution_count": 47,
   "metadata": {
    "collapsed": false
   },
   "outputs": [],
   "source": [
    "for key in keys:\n",
    "    idx = [i for i, x in enumerate(labels) if x == key]\n",
    "    key_data = data[idx,:]\n",
    "    accuracy = key_data[:,0]\n",
    "    train_coherence = np.mean(key_data[:,1:4],axis=1)\n",
    "    test_coherence = np.mean(key_data[:,5:8],axis=1)\n",
    "    coherences[key] = [\n",
    "        np.corrcoef(accuracy,train_coherence)[0,1],\n",
    "        np.corrcoef(accuracy,test_coherence)[0,1],\n",
    "        np.corrcoef(accuracy,test_coherence-train_coherence)[0,1]\n",
    "    ]"
   ]
  },
  {
   "cell_type": "code",
   "execution_count": 48,
   "metadata": {
    "collapsed": false
   },
   "outputs": [
    {
     "name": "stdout",
     "output_type": "stream",
     "text": [
      "{'kitchen_l1': [-0.55981437785780264, -0.68646902622092554, -0.70718751138158664], 'kitchen_l2': [0.33941348317338249, 0.10267793754800143, -0.6666259230842515], 'electronics_l2': [0.046638534389543393, 0.21989143016156726, 0.48096535609033708], 'electronics_l1': [-0.44513378249755459, -0.43187568351488698, 0.12210674238258776], 'books_l1': [-0.55249199197525689, -0.35823880658045415, 0.72399324922393082], 'books_l2': [0.37217898618986528, 0.14824707044237573, -0.63546172473433682], 'dvd_l2': [0.51714676510498636, 0.40701739422050787, -0.55302858199946492], 'dvd_l1': [-0.66417421200265803, -0.73515076183751538, -0.46474064628042516]}\n"
     ]
    }
   ],
   "source": [
    "print coherences"
   ]
  },
  {
   "cell_type": "markdown",
   "metadata": {},
   "source": [
    "Correlation Pairs"
   ]
  },
  {
   "cell_type": "code",
   "execution_count": 49,
   "metadata": {
    "collapsed": true
   },
   "outputs": [],
   "source": [
    "for key in keys_p:\n",
    "    idx = [i for i, x in enumerate(labels_p) if x == key]\n",
    "    key_data = data[idx,:]\n",
    "    accuracy = key_data[:,0]\n",
    "    train_coherence = np.mean(key_data[:,1:4],axis=1)\n",
    "    test_coherence = np.mean(key_data[:,5:8],axis=1)\n",
    "    coherences_p[key] = [\n",
    "        np.corrcoef(accuracy,train_coherence)[0,1],\n",
    "        np.corrcoef(accuracy,test_coherence)[0,1],\n",
    "        np.corrcoef(accuracy,test_coherence-train_coherence)[0,1]\n",
    "    ]"
   ]
  },
  {
   "cell_type": "code",
   "execution_count": 50,
   "metadata": {
    "collapsed": false
   },
   "outputs": [
    {
     "name": "stdout",
     "output_type": "stream",
     "text": [
      "{'books_kitchen_l2': [0.75050838408883824, 0.69616320096360584, 0.19922699667172028], 'books_kitchen_l1': [-0.4873305250188914, -0.78672761463543839, -0.97987052588464241], 'books_electronics_l1': [-0.26726905146093144, -0.47630621611682156, -0.83668936486373202], 'books_electronics_l2': [0.21845348101935694, 0.13000318074028977, -0.2376428850614577], 'dvd_electronics_l2': [0.76802203318752682, 0.79559237173413899, 0.7757109231287973], 'dvd_electronics_l1': [-0.44809402648542118, -0.37815673792383581, 0.69805523780331269], 'dvd_books_l1': [-0.67683755556331815, -0.42888564702272669, 0.92890355387282608], 'dvd_books_l2': [0.95870895676243628, 0.93391895548944204, 0.38615014819734778], 'books_dvd_l1': [-0.49427438930420364, -0.72818058646477102, -0.94804453673932254], 'books_dvd_l2': [0.61897295457873036, 0.40701739422050792, -0.86861237369897148], 'kitchen_books_l2': [-0.0096005612212501767, 0.081427703482416486, 0.49184549649960374], 'electronics_dvd_l2': [0.47303148673126588, 0.40701739422050792, -0.58856579815366195], 'electronics_dvd_l1': [-0.67923790341502632, -0.73538337574027879, -0.90453979193101974], 'kitchen_books_l1': [-0.86137605010885587, -0.60288474784887791, 0.99548735367739616], 'kitchen_electronics_l1': [-0.6202353249217839, -0.483152142505271, 0.93892802610957704], 'kitchen_electronics_l2': [0.14517643450702702, 0.13000318074028977, -0.093964840540166863], 'dvd_kitchen_l1': [-0.71835788127811762, -0.78091513685117342, -0.91591223845272063], 'dvd_kitchen_l2': [0.62483876687903528, 0.69616320096360584, 0.76628480022158396], 'electronics_kitchen_l1': [-0.63379275102973354, -0.75740568173731437, -0.98910259741984041], 'electronics_kitchen_l2': [0.75024504024985839, 0.77087692526907825, 0.10238286406856725], 'kitchen_dvd_l1': [-0.80201208746396491, -0.74190941674620403, 0.93302685052144096], 'kitchen_dvd_l2': [0.52248142174190582, 0.40701739422050792, -0.7305065348664157], 'electronics_books_l1': [-0.54008041512041149, -0.34027828973176666, 0.87011249358261167], 'electronics_books_l2': [0.82620548268552108, 0.90078437064120287, -0.13713275833344915]}\n"
     ]
    }
   ],
   "source": [
    "print coherences_p"
   ]
  },
  {
   "cell_type": "markdown",
   "metadata": {},
   "source": [
    "Correlation of penalty type"
   ]
  },
  {
   "cell_type": "code",
   "execution_count": 53,
   "metadata": {
    "collapsed": true
   },
   "outputs": [],
   "source": [
    "for key in keys_a:\n",
    "    idx = [i for i, x in enumerate(labels_a) if x == key]\n",
    "    key_data = data[idx,:]\n",
    "    accuracy = key_data[:,0]\n",
    "    train_coherence = np.mean(key_data[:,1:4],axis=1)\n",
    "    test_coherence = np.mean(key_data[:,5:8],axis=1)\n",
    "    coherences_a[key] = [\n",
    "        np.corrcoef(accuracy,train_coherence)[0,1],\n",
    "        np.corrcoef(accuracy,test_coherence)[0,1],\n",
    "        np.corrcoef(accuracy,test_coherence-train_coherence)[0,1]\n",
    "    ]"
   ]
  },
  {
   "cell_type": "code",
   "execution_count": 54,
   "metadata": {
    "collapsed": false
   },
   "outputs": [
    {
     "name": "stdout",
     "output_type": "stream",
     "text": [
      "{'l2': [0.15055410112310658, 0.023699076340017118, -0.2389676211972355], 'l1': [-0.45922046485478391, -0.41810488315121191, 0.10182610876931922]}\n"
     ]
    }
   ],
   "source": [
    "print coherences_a"
   ]
  },
  {
   "cell_type": "code",
   "execution_count": null,
   "metadata": {
    "collapsed": true
   },
   "outputs": [],
   "source": []
  }
 ],
 "metadata": {
  "kernelspec": {
   "display_name": "Python 2",
   "language": "python",
   "name": "python2"
  },
  "language_info": {
   "codemirror_mode": {
    "name": "ipython",
    "version": 2
   },
   "file_extension": ".py",
   "mimetype": "text/x-python",
   "name": "python",
   "nbconvert_exporter": "python",
   "pygments_lexer": "ipython2",
   "version": "2.7.11"
  }
 },
 "nbformat": 4,
 "nbformat_minor": 0
}
