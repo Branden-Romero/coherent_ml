{
 "cells": [
  {
   "cell_type": "code",
   "execution_count": 1,
   "metadata": {
    "collapsed": true
   },
   "outputs": [],
   "source": [
    "import numpy as np"
   ]
  },
  {
   "cell_type": "code",
   "execution_count": 8,
   "metadata": {
    "collapsed": false
   },
   "outputs": [],
   "source": [
    "data = np.loadtxt(open(\"../multi_domain_cv.csv\",'rb'),delimiter=',')"
   ]
  },
  {
   "cell_type": "code",
   "execution_count": 4,
   "metadata": {
    "collapsed": false
   },
   "outputs": [],
   "source": [
    "domains = ['books','dvd','electronics','kitchen']\n",
    "penalties = ['l1','l2']                                                                                                            \n",
    "Cs = [0.01,0.1,1.0,10.0,100.0,1000.0] \n",
    "\n",
    "labels_td = []\n",
    "label_td = \"{0}_{1}\"\n",
    "\n",
    "labels_p = []\n",
    "\n",
    "for p in penalties:\n",
    "    for c in Cs:\n",
    "        for dtest in domains:\n",
    "                labels_td.append(label_td.format(dtest,p))\n",
    "                labels_p.append(p)\n"
   ]
  },
  {
   "cell_type": "code",
   "execution_count": 17,
   "metadata": {
    "collapsed": false
   },
   "outputs": [],
   "source": [
    "keys_td = list(set(labels_td))\n",
    "cohere_td = dict.fromkeys(keys_td,None)\n",
    "\n",
    "keys_p = penalties\n",
    "cohere_p = dict.fromkeys(keys_p,None)"
   ]
  },
  {
   "cell_type": "code",
   "execution_count": 13,
   "metadata": {
    "collapsed": false
   },
   "outputs": [],
   "source": [
    "for key in keys_td:\n",
    "    idx = [i for i, x in enumerate(labels_td) if x == key]\n",
    "    key_data = data[idx,:]\n",
    "    accuracy = key_data[:,0]\n",
    "    train_coherence = np.mean(key_data[:,1:4],axis=1)\n",
    "    test_coherence = np.mean(key_data[:,5:8],axis=1)\n",
    "    cohere_td[key] = [\n",
    "        np.corrcoef(accuracy,train_coherence)[0,1],\n",
    "        np.corrcoef(accuracy,test_coherence)[0,1],\n",
    "        np.corrcoef(accuracy,test_coherence-train_coherence)[0,1]\n",
    "    ]"
   ]
  },
  {
   "cell_type": "code",
   "execution_count": 14,
   "metadata": {
    "collapsed": false
   },
   "outputs": [
    {
     "name": "stdout",
     "output_type": "stream",
     "text": [
      "{'kitchen_l1': [-0.50070351755897569, -0.68612037801422643, -0.82384105750898717], 'kitchen_l2': [0.79626412548550407, 0.80243015025491815, -0.47147646986208858], 'electronics_l2': [0.93827369414932493, 0.92235664091946123, -0.92344045766912597], 'electronics_l1': [-0.42661450317094496, -0.45371457489872596, -0.48462862545152213], 'books_l1': [-0.37259270926483556, -0.19505812253713981, 0.70267608378666579], 'books_l2': [0.81268810247585155, 0.83759843796581213, -0.54826257022532909], 'dvd_l2': [0.91458025114211916, 0.83781570045778442, -0.93357436960226348], 'dvd_l1': [-0.46447700215556365, -0.53344260401059029, -0.60434124160430691]}\n"
     ]
    }
   ],
   "source": [
    "print cohere_td"
   ]
  },
  {
   "cell_type": "code",
   "execution_count": 18,
   "metadata": {
    "collapsed": false
   },
   "outputs": [],
   "source": [
    "for key in keys_p:\n",
    "    idx = [i for i, x in enumerate(labels_p) if x == key]\n",
    "    key_data = data[idx,:]\n",
    "    accuracy = key_data[:,0]\n",
    "    train_coherence = np.mean(key_data[:,1:4],axis=1)\n",
    "    test_coherence = np.mean(key_data[:,5:8],axis=1)\n",
    "    cohere_p[key] = [\n",
    "        np.corrcoef(accuracy,train_coherence)[0,1],\n",
    "        np.corrcoef(accuracy,test_coherence)[0,1],\n",
    "        np.corrcoef(accuracy,test_coherence-train_coherence)[0,1]\n",
    "    ]"
   ]
  },
  {
   "cell_type": "code",
   "execution_count": 19,
   "metadata": {
    "collapsed": false
   },
   "outputs": [
    {
     "name": "stdout",
     "output_type": "stream",
     "text": [
      "{'l2': [0.20157523979441935, -0.028664631856238097, -0.61631873064733722], 'l1': [-0.3537133220738698, -0.34980567566019133, -0.26639596822886996]}\n"
     ]
    }
   ],
   "source": [
    "print cohere_p"
   ]
  },
  {
   "cell_type": "code",
   "execution_count": null,
   "metadata": {
    "collapsed": true
   },
   "outputs": [],
   "source": []
  }
 ],
 "metadata": {
  "kernelspec": {
   "display_name": "Python 2",
   "language": "python",
   "name": "python2"
  },
  "language_info": {
   "codemirror_mode": {
    "name": "ipython",
    "version": 2
   },
   "file_extension": ".py",
   "mimetype": "text/x-python",
   "name": "python",
   "nbconvert_exporter": "python",
   "pygments_lexer": "ipython2",
   "version": "2.7.11"
  }
 },
 "nbformat": 4,
 "nbformat_minor": 0
}
